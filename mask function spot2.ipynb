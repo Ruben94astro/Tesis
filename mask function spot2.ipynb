{
 "cells": [
  {
   "cell_type": "code",
   "execution_count": 1,
   "id": "b163fc18-1145-495a-8fed-5b299d0c7595",
   "metadata": {},
   "outputs": [
    {
     "name": "stdout",
     "output_type": "stream",
     "text": [
      "Procesando frame 48/48, motion 6.15 rad"
     ]
    },
    {
     "data": {
      "image/png": "[encoded data removed]",
      "text/plain": [
       "<Figure size 1200x600 with 1 Axes>"
      ]
     },
     "metadata": {},
     "output_type": "display_data"
    }
   ],
   "source": [
    "%matplotlib inline\n",
    "#libraries\n",
    "import numpy as np\n",
    "import pandas as pd\n",
    "import astropy.units as u\n",
    "from astropy.constants import R_sun\n",
    "import matplotlib.pyplot as plt\n",
    "from mpl_toolkits.mplot3d import Axes3D\n",
    "from matplotlib import animation\n",
    "from sklearn.preprocessing import normalize\n",
    "import astropy.units as u\n",
    "import os\n",
    "os.makedirs(\"frames\", exist_ok=True)\n",
    "#functions \n",
    "\n",
    "# convertion function \n",
    "def convertion_radians(degree):\n",
    "    return np.deg2rad(degree)\n",
    "\n",
    "#function to calculate angular velocity    \n",
    "def spot_theta(rotation_period, spot_colatitude, relative_shear):\n",
    "    \"\"\"\n",
    "    Parameters:\n",
    "    - rotation_period: rotation period of the sta\n",
    "    - initial_latitude: latitud of spot(radians)\n",
    "    - relative_shear: parameter between pole and equator\n",
    "    Returns:\n",
    "    - angular velocity.\n",
    "    \"\"\"\n",
    "    latitude = np.pi / 2 - spot_colatitude #------->the spehre latitude is from 0  to 2pi, so in equator the colatitude will be pi?2\n",
    "    angular_vel_equa= 2*np.pi*u.rad/rotation_period\n",
    "    angular_velocity = angular_vel_equa*(1-relative_shear*np.sin(latitude)**2)\n",
    "    return angular_velocity  \n",
    "\n",
    "#flux function\n",
    "def flux_plot(flux):\n",
    "    ''' Function take a list normalizing the flux, converting the list in a csv file and rename the columns\n",
    "    and return a plot    \n",
    "    '''\n",
    "    flux_norm = normalize([flux], norm=\"max\")[0]\n",
    "    df = pd.DataFrame(flux_norm)\n",
    "    df.to_csv(\"lc_high.csv\")\n",
    "    lc = pd.read_csv(\"lc_high.csv\")\n",
    "    lc = lc.rename(columns={'Unnamed: 0': 'Days', '0': 'flux_normalized'})#-----> change the name of the columns\n",
    "    lc.to_csv('lc_high_name.csv')\n",
    "    return lc.plot(x=\"Days\", y=\"flux_normalized\", alpha=0.5)#----->simple plot of lc\n",
    "\n",
    "\n",
    "# limb darkening function \n",
    "def limbdarkening(u):\n",
    "    '''calculate a limb darkening lineal and put it to the spehre'''\n",
    "    return (1 - u * (1 - mu))\n",
    "\n",
    "#function that create a gaussian mask to represent spots\n",
    "def spot_mask(theta_mesh, spot_theta_rad,phi_mesh,spot_phi_rad):\n",
    "    '''function for creating spot mask, that could change the size and shape of the spot\n",
    "    using a gaussian function\n",
    "    '''\n",
    "    delta_theta = np.arccos(np.cos(theta_mesh - spot_theta_rad.value))\n",
    "    delta_phi = np.abs(phi_mesh - spot_phi_rad)\n",
    "    distance_squared = delta_theta**2 + delta_phi**2\n",
    "    sigma_squared = (spot_radius_rad / 2)**2\n",
    "    return np.exp(-distance_squared/ (2* sigma_squared))\n",
    "    #return np.where(np.abs(distance_squared) <= 0.6, 1, 0)\n",
    "\n",
    "def spot_mask_binary(theta_mesh, spot_theta_rad, phi_mesh, spot_phi_rad, spot_radius_rad):\n",
    "    \"\"\"Máscara binaria: 1 dentro del radio de la mancha, 0 fuera\"\"\"\n",
    "    delta_theta = np.arccos(np.cos(theta_mesh - spot_theta_rad.value))\n",
    "    delta_phi = np.abs(phi_mesh - spot_phi_rad)\n",
    "    distance_squared = delta_theta**2 + delta_phi**2\n",
    "    return np.where(distance_squared <= spot_radius_rad**2, 1, 0)\n",
    "\n",
    "def spot_mask_hard(theta_mesh, spot_theta_rad, phi_mesh, spot_phi_rad, radius_rad):\n",
    "    delta_theta = np.arccos(np.cos(theta_mesh - spot_theta_rad.value))\n",
    "    delta_phi = np.abs(phi_mesh - spot_phi_rad)\n",
    "    distance_squared = delta_theta**2 + delta_phi**2\n",
    "    return np.where(distance_squared <= radius_rad**2, 1.0, 0.0)\n",
    "\n",
    "\n",
    "\n",
    "#animation Function\n",
    "#@profile\n",
    "def animate(i, gray_texture, mu, spot_theta_rad, spot_phi_rad, spot_radius_rad,\n",
    "            theta_mesh, phi_mesh, x, y, z, ax_sphere, elev, azim, fluxes, total_frames):#ax_curve, line_curve, fluxes, total_frames):\n",
    "    \"\"\" Function where is created the motion and call functions\"\"\"\n",
    "\n",
    "\n",
    "\n",
    "\n",
    "    ax_sphere.clear()\n",
    "    ax_sphere.set_axis_off()\n",
    "    ax_sphere.view_init(elev=elev, azim=azim)\n",
    "    texture = np.copy(gray_texture)\n",
    "\n",
    "    spot_theta_motion = spot_theta_rad*u.rad + angular_velocity*i*cadence_time.to(u.day)\n",
    "\n",
    "    #spot_mask_motion = spot_mask(theta_mesh, spot_theta_motion, phi_mesh, spot_phi_rad)\n",
    "\n",
    "    spot_mask_motion = spot_mask_binary(theta_mesh, spot_theta_motion, phi_mesh, spot_phi_rad, spot_radius_rad)\n",
    "    \n",
    "    #spot_mask_motion = spot_mask_hard(theta_mesh, spot_theta_motion, phi_mesh, spot_phi_rad, spot_radius_rad)\n",
    "  \n",
    "\n",
    "    \n",
    "    # Add texture to spot\n",
    "    #texture = gray_texture * (1 - spot_mask_motion)\n",
    "    texture *=(1-spot_mask_motion) \n",
    "\n",
    "\n",
    "    # Plot surface\n",
    "    #surf = ax_sphere.plot_surface(x, y, z, rstride=1, cstride=1, facecolors=texture, shade=False)\n",
    "    surf = ax_sphere.plot_surface(x, y, z, rstride=1, cstride=1, facecolors=plt.cm.gray(texture), shade=False)\n",
    "\n",
    "    visible_mask = mu > 0  # máscara booleana de la cara visible\n",
    "\n",
    "    # --- OPCIÓN 1: Flujo simple (suma directa de la zona visible)\n",
    "    total_flux = np.sum(texture[visible_mask])\n",
    "  \n",
    "\n",
    "    #total_flux = np.sum(texture)\n",
    "    fluxes.append(total_flux)\n",
    "    \n",
    "    #Normalized curve\n",
    "    #fluxes_normalized = normalize([fluxes], norm=\"max\")[0]\n",
    "    #line_curve.set_data(np.arange(len(fluxes))*(cadence_time.to(u.day)).value, fluxes_normalized)\n",
    "    #line_curve.set_data(np.arange(len(fluxes)), fluxes)\n",
    "\n",
    "    print(f\"Procesando frame {i+1}/{total_frames}, motion {spot_theta_motion:.2f}\",  end='\\r')  # -------> to see the process\n",
    "    # 🔽 Aquí es donde guardás el PNG de cada frame\n",
    "    filename = f\"frames/frame_{i:03d}.png\"\n",
    "    plt.savefig(filename, dpi=150, bbox_inches='tight', pad_inches=0)\n",
    "\n",
    "    \n",
    "\n",
    "    #return[surf, line_curve]\n",
    "    return[surf]\n",
    "\n",
    "if __name__ == '__main__':\n",
    "    \n",
    "    # Stellar parameters \n",
    "    r = 1* u.R_sun\n",
    "    res = 100#--->resolution\n",
    "    constant = 0.8  # limb darkening coefficient\n",
    "    rotation_period = 1* u.day #--->rotation period of the star\n",
    "    \n",
    "    # Point of view of the sphere\n",
    "    elev = 0\n",
    "    azim = 0\n",
    "    \n",
    "    # parameters position of the spot\n",
    "    spot_theta_deg = 0 #------>Longitude\n",
    "    spot_phi_deg = 90 #------>Latitude\n",
    "    spot_radius_deg = 113\n",
    "    \n",
    "    #parameters of how many days periods\n",
    "    observing_baseline_days = 1* u.day#----> Observation time\n",
    "    cadence_time = 30 * u.minute#----> Cadence\n",
    "    \n",
    "    # frames\n",
    "    total_frames = (observing_baseline_days / cadence_time).decompose().value\n",
    "    total_frames = int(total_frames) \n",
    "    \n",
    "    #Parameter of differential rotation\n",
    "    relative_shear_coeff = 0.2\n",
    "    \n",
    "    #creating angles\n",
    "    theta = np.linspace(0, 2*np.pi, res)\n",
    "    phi = np.linspace(0, np.pi, res)\n",
    "    \n",
    "    #meshgrid for creation of the sphere surface\n",
    "    theta_mesh, phi_mesh = np.meshgrid(theta, phi)\n",
    "    \n",
    "    x = r * np.sin(phi_mesh) * np.cos(theta_mesh)\n",
    "    y = r * np.sin(phi_mesh) * np.sin(theta_mesh)\n",
    "    z = r * np.cos(phi_mesh)\n",
    "    \n",
    "    # gray texture \n",
    "    gray_texture = np.ones((res, res))  # intensidad 1 = blanco\n",
    "\n",
    "\n",
    "    \n",
    "    #convertion paraneters\n",
    "    spot_phi_rad = convertion_radians(spot_phi_deg)\n",
    "    spot_radius_rad = convertion_radians(spot_radius_deg)\n",
    "    spot_theta_rad = convertion_radians(spot_theta_deg)\n",
    "    elev_rad = convertion_radians(elev)\n",
    "    azim_rad = convertion_radians(azim)\n",
    "    \n",
    "    v_x = np.cos(elev_rad) * np.cos(azim_rad)\n",
    "    v_y = np.cos(elev_rad) * np.sin(azim_rad)\n",
    "    v_z = np.sin(elev_rad)\n",
    "    \n",
    "    # Limb darkening\n",
    "    mu = (x * v_x + y * v_y + z * v_z) / r\n",
    "    mu = np.clip(mu, 0, 1)\n",
    "    \n",
    "    lineal_darkening = limbdarkening(constant)\n",
    "    #gray_texture *= lineal_darkening\n",
    "    \n",
    "    #motion of spot\n",
    "    angular_velocity = spot_theta(rotation_period, spot_phi_rad, relative_shear_coeff)#----->only calculate once\n",
    "    \n",
    "    \n",
    "        #Creating list for fluxes\n",
    "    fluxes = []\n",
    "    # Figure\n",
    "    plt.style.use('dark_background')# -----> dark background\n",
    "    fig = plt.figure(figsize=(12, 6))\n",
    "    ax_sphere = fig.add_subplot(projection='3d') \n",
    "    #ax_sphere = fig.add_subplot(121, projection='3d')\n",
    "    #ax_curve = fig.add_subplot(122)\n",
    "    ax_sphere.set_box_aspect((0.98, 1, 0.95))#-------> symtries of the sun \n",
    " \n",
    "    ax_sphere.set_axis_off()\n",
    "    \n",
    "    #ax_curve.set_title('Lightcurve', color='white')\n",
    "    #ax_curve.set_xlabel('Days')\n",
    "    #ax_curve.set_ylabel('Normalized flux')\n",
    "    #ax_curve.set_xlim(0, total_frames*(cadence_time.to(u.day)).value)\n",
    "    #ax_curve.set_ylim(3200,3500)\n",
    "    #ax_curve.set_facecolor('black')\n",
    "    #line_curve, = ax_curve.plot([], [], color='orange')\n",
    "    \n",
    "    for i in range(total_frames):\n",
    "        animate(i, gray_texture, mu, spot_theta_rad, spot_phi_rad, spot_radius_rad,\n",
    "            theta_mesh, phi_mesh, x, y, z, ax_sphere, elev, azim, fluxes, total_frames)\n",
    "        plt.savefig(f\"frames/frame_{i:03d}.png\", dpi=150)\n",
    "        #ax_sphere.clear()\n",
    "        #plt.close()\n",
    "\n",
    "    #for i in range(total_frames):\n",
    "     #   ani = animation.FuncAnimation(fig, animate, frames=total_frames, interval=60, blit=False, repeat=False,\n",
    "      #      fargs=(gray_texture, mu, spot_theta_rad, spot_phi_rad, spot_radius_rad,\n",
    "                   #theta_mesh, phi_mesh, x, y, z, ax_sphere, elev, azim, fluxes, total_frames)#ax_curve,\n",
    "                   #line_curve, fluxes, total_frames)\n",
    "       # )\n",
    "        \n",
    "        #ani.save('mask.gif', writer='ffmpeg', fps=20)\n",
    "        #plt.show()\n",
    "\n"
   ]
  },
  {
   "cell_type": "code",
   "execution_count": 10,
   "id": "633bdb65-f711-4a79-aef8-21905f1d7b69",
   "metadata": {},
   "outputs": [
    {
     "data": {
      "image/png": "[encoded data removed]",
      "text/plain": [
       "<Figure size 1000x500 with 1 Axes>"
      ]
     },
     "metadata": {},
     "output_type": "display_data"
    }
   ],
   "source": [
    "import numpy as np\n",
    "import matplotlib.pyplot as plt\n",
    "\n",
    "\n",
    "r = np.linspace(-2, 2, 100)  # puede representar distancia angular en radianes\n",
    "\n",
    "# Parameters\n",
    "sigma_gauss = 0.3\n",
    "radius_binary = 0.6\n",
    "sigma_ellip = 0.6\n",
    "\n",
    "# Profiles\n",
    "gaussian_profile = np.exp(-r**200 / (2 * sigma_gauss**2))\n",
    "binary_profile = np.where(np.abs(r) <= radius_binary, 1, 0)\n",
    "\n",
    "elliptical_profile = np.exp(-r**2 / (2 * sigma_ellip**2))\n",
    "\n",
    "# plots\n",
    "plt.figure(figsize=(10, 5))\n",
    "plt.plot(r, gaussian_profile, label='Gaussian Profile', linewidth=2)\n",
    "plt.plot(r, binary_profile, label='Binary Profile', linestyle='--', linewidth=2)\n",
    "plt.plot(r, elliptical_profile, label='Elipsodal profile', linestyle='-.', linewidth=2)\n",
    "\n",
    "plt.xlabel('x')\n",
    "plt.ylabel('Intensity')\n",
    "plt.title('Profile comparation')\n",
    "plt.legend()\n",
    "plt.tight_layout()\n",
    "plt.show()\n"
   ]
  },
  {
   "cell_type": "code",
   "execution_count": 3,
   "id": "80dbdb05-0e79-481f-9d89-23f7a2b3bcdd",
   "metadata": {},
   "outputs": [
    {
     "data": {
      "text/plain": [
       "[np.float64(116.0),\n",
       " np.float64(138.0),\n",
       " np.float64(206.0),\n",
       " np.float64(336.0),\n",
       " np.float64(538.0),\n",
       " np.float64(736.0),\n",
       " np.float64(942.0),\n",
       " np.float64(1144.0),\n",
       " np.float64(1346.0),\n",
       " np.float64(1552.0),\n",
       " np.float64(1763.0),\n",
       " np.float64(1975.0),\n",
       " np.float64(2185.0),\n",
       " np.float64(2406.0),\n",
       " np.float64(2628.0),\n",
       " np.float64(2862.0),\n",
       " np.float64(3082.0),\n",
       " np.float64(3286.0),\n",
       " np.float64(3494.0),\n",
       " np.float64(3702.0),\n",
       " np.float64(3904.0),\n",
       " np.float64(4102.0),\n",
       " np.float64(4242.0),\n",
       " np.float64(4314.0),\n",
       " np.float64(4334.0),\n",
       " np.float64(4314.0),\n",
       " np.float64(4242.0),\n",
       " np.float64(4102.0),\n",
       " np.float64(3904.0),\n",
       " np.float64(3702.0),\n",
       " np.float64(3494.0),\n",
       " np.float64(3286.0),\n",
       " np.float64(3082.0),\n",
       " np.float64(2862.0),\n",
       " np.float64(2628.0),\n",
       " np.float64(2406.0),\n",
       " np.float64(2185.0),\n",
       " np.float64(1975.0),\n",
       " np.float64(1763.0),\n",
       " np.float64(1552.0),\n",
       " np.float64(1346.0),\n",
       " np.float64(1144.0),\n",
       " np.float64(942.0),\n",
       " np.float64(736.0),\n",
       " np.float64(538.0),\n",
       " np.float64(336.0),\n",
       " np.float64(206.0),\n",
       " np.float64(138.0)]"
      ]
     },
     "execution_count": 3,
     "metadata": {},
     "output_type": "execute_result"
    }
   ],
   "source": [
    "### fluxes con mu>0\n",
    "fluxes"
   ]
  },
  {
   "cell_type": "code",
   "execution_count": 4,
   "id": "08ce58dc-9431-4aae-8477-6bd5bfcdb11a",
   "metadata": {},
   "outputs": [
    {
     "data": {
      "text/plain": [
       "np.float64(4334.0)"
      ]
     },
     "execution_count": 4,
     "metadata": {},
     "output_type": "execute_result"
    }
   ],
   "source": [
    "np.max(fluxes)"
   ]
  },
  {
   "cell_type": "code",
   "execution_count": 5,
   "id": "cfdc0847-3bc1-4eda-8a2a-8a7246a1a6f0",
   "metadata": {},
   "outputs": [
    {
     "data": {
      "text/plain": [
       "[np.float64(116.0),\n",
       " np.float64(138.0),\n",
       " np.float64(206.0),\n",
       " np.float64(336.0),\n",
       " np.float64(538.0),\n",
       " np.float64(736.0),\n",
       " np.float64(942.0),\n",
       " np.float64(1144.0),\n",
       " np.float64(1346.0),\n",
       " np.float64(1552.0),\n",
       " np.float64(1763.0),\n",
       " np.float64(1975.0),\n",
       " np.float64(2185.0),\n",
       " np.float64(2406.0),\n",
       " np.float64(2628.0),\n",
       " np.float64(2862.0),\n",
       " np.float64(3082.0),\n",
       " np.float64(3286.0),\n",
       " np.float64(3494.0),\n",
       " np.float64(3702.0),\n",
       " np.float64(3904.0),\n",
       " np.float64(4102.0),\n",
       " np.float64(4242.0),\n",
       " np.float64(4314.0),\n",
       " np.float64(4334.0),\n",
       " np.float64(4314.0),\n",
       " np.float64(4242.0),\n",
       " np.float64(4102.0),\n",
       " np.float64(3904.0),\n",
       " np.float64(3702.0),\n",
       " np.float64(3494.0),\n",
       " np.float64(3286.0),\n",
       " np.float64(3082.0),\n",
       " np.float64(2862.0),\n",
       " np.float64(2628.0),\n",
       " np.float64(2406.0),\n",
       " np.float64(2185.0),\n",
       " np.float64(1975.0),\n",
       " np.float64(1763.0),\n",
       " np.float64(1552.0),\n",
       " np.float64(1346.0),\n",
       " np.float64(1144.0),\n",
       " np.float64(942.0),\n",
       " np.float64(736.0),\n",
       " np.float64(538.0),\n",
       " np.float64(336.0),\n",
       " np.float64(206.0),\n",
       " np.float64(138.0)]"
      ]
     },
     "execution_count": 5,
     "metadata": {},
     "output_type": "execute_result"
    }
   ],
   "source": [
    "## fluxes mu>0.1\n",
    "fluxes"
   ]
  },
  {
   "cell_type": "code",
   "execution_count": 8,
   "id": "e2c88f1b-0a39-4b8d-a91a-c34a2e072d50",
   "metadata": {},
   "outputs": [
    {
     "data": {
      "text/plain": [
       "np.float64(4334.0)"
      ]
     },
     "execution_count": 8,
     "metadata": {},
     "output_type": "execute_result"
    }
   ],
   "source": [
    "np.max(fluxes)"
   ]
  },
  {
   "cell_type": "code",
   "execution_count": 12,
   "id": "4ab5b60a-9a07-4756-b3bd-6288c0d2732b",
   "metadata": {},
   "outputs": [
    {
     "data": {
      "text/plain": [
       "[np.float64(1588.0),\n",
       " np.float64(1590.0),\n",
       " np.float64(1602.0),\n",
       " np.float64(1588.0),\n",
       " np.float64(1594.0),\n",
       " np.float64(1592.0),\n",
       " np.float64(1594.0),\n",
       " np.float64(1594.0),\n",
       " np.float64(1592.0),\n",
       " np.float64(1592.0),\n",
       " np.float64(1592.0),\n",
       " np.float64(1614.0),\n",
       " np.float64(1608.0),\n",
       " np.float64(1610.0),\n",
       " np.float64(1622.0),\n",
       " np.float64(1656.0),\n",
       " np.float64(1654.0),\n",
       " np.float64(1652.0),\n",
       " np.float64(1650.0),\n",
       " np.float64(1654.0),\n",
       " np.float64(1656.0),\n",
       " np.float64(1648.0),\n",
       " np.float64(1652.0),\n",
       " np.float64(1650.0),\n",
       " np.float64(1660.0),\n",
       " np.float64(1650.0),\n",
       " np.float64(1652.0),\n",
       " np.float64(1648.0),\n",
       " np.float64(1656.0),\n",
       " np.float64(1654.0),\n",
       " np.float64(1650.0),\n",
       " np.float64(1652.0),\n",
       " np.float64(1654.0),\n",
       " np.float64(1656.0),\n",
       " np.float64(1622.0),\n",
       " np.float64(1610.0),\n",
       " np.float64(1608.0),\n",
       " np.float64(1614.0),\n",
       " np.float64(1592.0),\n",
       " np.float64(1592.0),\n",
       " np.float64(1592.0),\n",
       " np.float64(1594.0),\n",
       " np.float64(1594.0),\n",
       " np.float64(1592.0),\n",
       " np.float64(1594.0),\n",
       " np.float64(1588.0),\n",
       " np.float64(1602.0),\n",
       " np.float64(1590.0)]"
      ]
     },
     "execution_count": 12,
     "metadata": {},
     "output_type": "execute_result"
    }
   ],
   "source": [
    "### fluxes sin mu>0\n",
    "fluxes"
   ]
  },
  {
   "cell_type": "code",
   "execution_count": 6,
   "id": "30f3371c-66f5-40b5-9c56-fcee711d85ff",
   "metadata": {},
   "outputs": [
    {
     "data": {
      "text/plain": [
       "np.float64(1.0498220640569396)"
      ]
     },
     "execution_count": 6,
     "metadata": {},
     "output_type": "execute_result"
    }
   ],
   "source": [
    "np.max(fluxes)/np.min(fluxes)"
   ]
  },
  {
   "cell_type": "code",
   "execution_count": 7,
   "id": "f8c78f66-143b-469f-914c-a56a87305aac",
   "metadata": {},
   "outputs": [
    {
     "data": {
      "text/plain": [
       "np.float64(1770.0)"
      ]
     },
     "execution_count": 7,
     "metadata": {},
     "output_type": "execute_result"
    }
   ],
   "source": [
    "np.max(fluxes)"
   ]
  },
  {
   "cell_type": "code",
   "execution_count": 8,
   "id": "51f56838-6842-4ddf-9355-63666b2667ea",
   "metadata": {},
   "outputs": [
    {
     "data": {
      "text/plain": [
       "np.float64(1686.0)"
      ]
     },
     "execution_count": 8,
     "metadata": {},
     "output_type": "execute_result"
    }
   ],
   "source": [
    "np.min(fluxes)"
   ]
  },
  {
   "cell_type": "code",
   "execution_count": 10,
   "id": "8a0b88ce-313e-484f-84c4-45b94a2d5fc6",
   "metadata": {},
   "outputs": [
    {
     "data": {
      "image/png": "[encoded data removed]",
      "text/plain": [
       "<Figure size 640x480 with 2 Axes>"
      ]
     },
     "metadata": {},
     "output_type": "display_data"
    }
   ],
   "source": [
    "plt.imshow(gray_texture, cmap = \"gray\")\n",
    "plt.colorbar()\n",
    "plt.title('Brillo en superficie visible')\n",
    "plt.show()\n"
   ]
  },
  {
   "cell_type": "markdown",
   "id": "226096c9-d6c3-4668-bc81-feb82caa9bf7",
   "metadata": {},
   "source": [
    "#### gray_texture"
   ]
  },
  {
   "cell_type": "code",
   "execution_count": 38,
   "id": "bda5265e-f951-47e6-843d-b1619e05cc74",
   "metadata": {},
   "outputs": [
    {
     "name": "stdout",
     "output_type": "stream",
     "text": [
      "Min: 1.0 Max: 1.0 Mean: 1.0\n"
     ]
    }
   ],
   "source": [
    "print(\"Min:\", gray_texture.min(), \"Max:\", gray_texture.max(), \"Mean:\", gray_texture.mean())\n"
   ]
  },
  {
   "cell_type": "code",
   "execution_count": 6,
   "id": "e874aec2-7be8-4f7a-afe1-248861f1ae62",
   "metadata": {},
   "outputs": [
    {
     "data": {
      "text/plain": [
       "[<matplotlib.lines.Line2D at 0x141daf4d0>]"
      ]
     },
     "execution_count": 6,
     "metadata": {},
     "output_type": "execute_result"
    },
    {
     "data": {
      "image/png": "[encoded data removed]",
      "text/plain": [
       "<Figure size 640x480 with 1 Axes>"
      ]
     },
     "metadata": {},
     "output_type": "display_data"
    }
   ],
   "source": [
    "plt.plot(fluxes)"
   ]
  },
  {
   "cell_type": "code",
   "execution_count": 7,
   "id": "15d19f7d-a1ae-438e-a84d-fcdf4101a1f0",
   "metadata": {},
   "outputs": [
    {
     "data": {
      "text/plain": [
       "<matplotlib.image.AxesImage at 0x141969400>"
      ]
     },
     "execution_count": 7,
     "metadata": {},
     "output_type": "execute_result"
    },
    {
     "data": {
      "image/png": "[encoded data removed]",
      "text/plain": [
       "<Figure size 640x480 with 1 Axes>"
      ]
     },
     "metadata": {},
     "output_type": "display_data"
    }
   ],
   "source": [
    "\n",
    "plt.imshow(gray_texture)"
   ]
  },
  {
   "cell_type": "code",
   "execution_count": 11,
   "id": "ce202d4f-89a8-4312-b823-b539f03f9876",
   "metadata": {},
   "outputs": [
    {
     "data": {
      "text/plain": [
       "<matplotlib.image.AxesImage at 0x1441dd450>"
      ]
     },
     "execution_count": 11,
     "metadata": {},
     "output_type": "execute_result"
    },
    {
     "data": {
      "image/png": "[encoded data removed]",
      "text/plain": [
       "<Figure size 640x480 with 1 Axes>"
      ]
     },
     "metadata": {},
     "output_type": "display_data"
    }
   ],
   "source": [
    "plt.imshow(mu)"
   ]
  },
  {
   "cell_type": "code",
   "execution_count": 19,
   "id": "aa0605ee-0833-4f10-bd7a-9178d4503e1f",
   "metadata": {},
   "outputs": [],
   "source": [
    "delta_theta = np.arccos(np.cos(theta_mesh - int(spot_theta_rad)))\n",
    "delta_phi = np.abs(phi_mesh - spot_phi_rad)\n",
    "distance_squared = delta_theta**2 + delta_phi**2\n",
    "sigma_squared = (spot_radius_rad / 2)**2\n",
    "gray_texture *=(1-np.exp(-distance_squared**2/ (2* sigma_squared))) \n"
   ]
  },
  {
   "cell_type": "code",
   "execution_count": 26,
   "id": "de2fb1b1-61c2-4ab4-aec7-507f19861f17",
   "metadata": {},
   "outputs": [
    {
     "data": {
      "text/plain": [
       "<matplotlib.image.AxesImage at 0x13f015a90>"
      ]
     },
     "execution_count": 26,
     "metadata": {},
     "output_type": "execute_result"
    },
    {
     "data": {
      "image/png": "[encoded data removed]",
      "text/plain": [
       "<Figure size 640x480 with 1 Axes>"
      ]
     },
     "metadata": {},
     "output_type": "display_data"
    }
   ],
   "source": [
    "plt.imshow(gray_texture, cmap='hot')"
   ]
  },
  {
   "cell_type": "code",
   "execution_count": 17,
   "id": "e740322a-ac55-47b7-864d-a74ee3763cd7",
   "metadata": {},
   "outputs": [
    {
     "data": {
      "text/plain": [
       "<matplotlib.image.AxesImage at 0x1455ff890>"
      ]
     },
     "execution_count": 17,
     "metadata": {},
     "output_type": "execute_result"
    },
    {
     "data": {
      "image/png": "[encoded data removed]",
      "text/plain": [
       "<Figure size 640x480 with 1 Axes>"
      ]
     },
     "metadata": {},
     "output_type": "display_data"
    }
   ],
   "source": [
    "plt.imshow(mu*gray_texture)"
   ]
  },
  {
   "cell_type": "code",
   "execution_count": 3,
   "id": "e0f13857-925e-43c7-a593-45db9f743044",
   "metadata": {},
   "outputs": [
    {
     "data": {
      "text/plain": [
       "np.float64(1770.0)"
      ]
     },
     "execution_count": 3,
     "metadata": {},
     "output_type": "execute_result"
    }
   ],
   "source": [
    "np.max(fluxes)"
   ]
  },
  {
   "cell_type": "code",
   "execution_count": 4,
   "id": "b6278935-c01c-4990-a3cc-aa0f8adcd535",
   "metadata": {},
   "outputs": [
    {
     "data": {
      "text/plain": [
       "np.float64(1728.031101065419)"
      ]
     },
     "execution_count": 4,
     "metadata": {},
     "output_type": "execute_result"
    }
   ],
   "source": [
    "np.min(fluxes)"
   ]
  },
  {
   "cell_type": "code",
   "execution_count": 12,
   "id": "f980f48f-1bb4-4774-aa1c-0b1931f171e0",
   "metadata": {},
   "outputs": [
    {
     "data": {
      "text/plain": [
       "[np.float64(104.0),\n",
       " np.float64(134.0),\n",
       " np.float64(174.0),\n",
       " np.float64(236.0),\n",
       " np.float64(306.0),\n",
       " np.float64(374.0),\n",
       " np.float64(436.0),\n",
       " np.float64(500.0),\n",
       " np.float64(572.0),\n",
       " np.float64(638.0),\n",
       " np.float64(708.0),\n",
       " np.float64(780.0),\n",
       " np.float64(838.0),\n",
       " np.float64(896.0),\n",
       " np.float64(954.0),\n",
       " np.float64(1006.0),\n",
       " np.float64(1052.0),\n",
       " np.float64(1098.0),\n",
       " np.float64(1146.0),\n",
       " np.float64(1180.0),\n",
       " np.float64(1210.0),\n",
       " np.float64(1224.0),\n",
       " np.float64(1224.0),\n",
       " np.float64(1224.0),\n",
       " np.float64(1224.0),\n",
       " np.float64(1224.0),\n",
       " np.float64(1224.0),\n",
       " np.float64(1224.0),\n",
       " np.float64(1210.0),\n",
       " np.float64(1180.0),\n",
       " np.float64(1146.0),\n",
       " np.float64(1098.0),\n",
       " np.float64(1052.0),\n",
       " np.float64(1006.0),\n",
       " np.float64(954.0),\n",
       " np.float64(896.0),\n",
       " np.float64(838.0),\n",
       " np.float64(780.0),\n",
       " np.float64(708.0),\n",
       " np.float64(638.0),\n",
       " np.float64(572.0),\n",
       " np.float64(500.0),\n",
       " np.float64(436.0),\n",
       " np.float64(374.0),\n",
       " np.float64(306.0),\n",
       " np.float64(236.0),\n",
       " np.float64(174.0),\n",
       " np.float64(134.0)]"
      ]
     },
     "execution_count": 12,
     "metadata": {},
     "output_type": "execute_result"
    }
   ],
   "source": [
    "fluxes"
   ]
  },
  {
   "cell_type": "code",
   "execution_count": 15,
   "id": "dfd310b6-0af7-4a36-84bf-9100ce73ca6a",
   "metadata": {},
   "outputs": [],
   "source": [
    "\"\"\"Máscara binaria: 1 dentro del radio de la mancha, 0 fuera\"\"\"\n",
    "delta_theta = np.arccos(np.cos(theta_mesh - spot_theta_rad))\n",
    "delta_phi = np.abs(phi_mesh - spot_phi_rad)\n",
    "distance_squared = delta_theta**2 + delta_phi**2\n",
    "np.where(distance_squared <= spot_radius_rad**2, 1, 0)\n",
    "gray_texture *=(np.where(distance_squared <= spot_radius_rad**2, 1, 0)) \n"
   ]
  },
  {
   "cell_type": "code",
   "execution_count": 16,
   "id": "7abc68a0-38dd-46e4-ae4c-f522cd7b74a8",
   "metadata": {},
   "outputs": [
    {
     "data": {
      "text/plain": [
       "<matplotlib.image.AxesImage at 0x145735a90>"
      ]
     },
     "execution_count": 16,
     "metadata": {},
     "output_type": "execute_result"
    },
    {
     "data": {
      "image/png": "[encoded data removed]",
      "text/plain": [
       "<Figure size 640x480 with 1 Axes>"
      ]
     },
     "metadata": {},
     "output_type": "display_data"
    }
   ],
   "source": [
    "plt.imshow(gray_texture)"
   ]
  },
  {
   "cell_type": "code",
   "execution_count": 19,
   "id": "cfb5a22a-b77b-472b-b279-0582eed63d57",
   "metadata": {},
   "outputs": [
    {
     "data": {
      "text/plain": [
       "array([[ True,  True,  True, ...,  True,  True,  True],\n",
       "       [ True,  True,  True, ...,  True,  True,  True],\n",
       "       [ True,  True,  True, ...,  True,  True,  True],\n",
       "       ...,\n",
       "       [ True,  True,  True, ...,  True,  True,  True],\n",
       "       [ True,  True,  True, ...,  True,  True,  True],\n",
       "       [ True,  True,  True, ...,  True,  True,  True]], shape=(60, 60))"
      ]
     },
     "execution_count": 19,
     "metadata": {},
     "output_type": "execute_result"
    }
   ],
   "source": [
    "gray_texture == mu*gray_texture"
   ]
  },
  {
   "cell_type": "code",
   "execution_count": null,
   "id": "c32761d3-8733-4574-8ed6-e4c4a0c0be2b",
   "metadata": {},
   "outputs": [],
   "source": []
  }
 ],
 "metadata": {
  "kernelspec": {
   "display_name": "Python 3 (ipykernel)",
   "language": "python",
   "name": "python3"
  },
  "language_info": {
   "codemirror_mode": {
    "name": "ipython",
    "version": 3
   },
   "file_extension": ".py",
   "mimetype": "text/x-python",
   "name": "python",
   "nbconvert_exporter": "python",
   "pygments_lexer": "ipython3",
   "version": "3.13.2"
  }
 },
 "nbformat": 4,
 "nbformat_minor": 5
}
